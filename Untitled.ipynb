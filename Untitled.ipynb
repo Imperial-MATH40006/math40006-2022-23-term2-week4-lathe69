{
 "cells": [
  {
   "cell_type": "code",
   "execution_count": 1,
   "id": "11f4d542",
   "metadata": {},
   "outputs": [
    {
     "data": {
      "text/plain": [
       "-308"
      ]
     },
     "execution_count": 1,
     "metadata": {},
     "output_type": "execute_result"
    }
   ],
   "source": [
    "import random as rnd\n",
    "rnd.randint(-1000,-100)"
   ]
  },
  {
   "cell_type": "code",
   "execution_count": 2,
   "id": "db028619",
   "metadata": {},
   "outputs": [
    {
     "data": {
      "text/plain": [
       "[1, 1, 1, 1, 1]"
      ]
     },
     "execution_count": 2,
     "metadata": {},
     "output_type": "execute_result"
    }
   ],
   "source": [
    "rnd.choices([1,2,3,4,5,6,7,8,9],k=5,weights=[9,0,0,0,0,0,0,0,0])"
   ]
  },
  {
   "cell_type": "code",
   "execution_count": 3,
   "id": "d8b5ba7b",
   "metadata": {},
   "outputs": [
    {
     "name": "stdout",
     "output_type": "stream",
     "text": [
      "[2, 1]\n",
      "[1, 2, 3, 4]\n"
     ]
    }
   ],
   "source": [
    "lis = [1,2,3,4]\n",
    "print(rnd.sample(lis,k=2))\n",
    "print(lis)"
   ]
  },
  {
   "cell_type": "code",
   "execution_count": 4,
   "id": "ef4905fb",
   "metadata": {},
   "outputs": [
    {
     "name": "stdout",
     "output_type": "stream",
     "text": [
      "[2 1 3]\n"
     ]
    }
   ],
   "source": [
    "import numpy as np\n",
    "arr1 = np.array([1,2,3])\n",
    "rnd.shuffle(arr1)\n",
    "print(arr1)"
   ]
  },
  {
   "cell_type": "code",
   "execution_count": 5,
   "id": "7d574743",
   "metadata": {},
   "outputs": [
    {
     "name": "stdout",
     "output_type": "stream",
     "text": [
      "[3 2 1]\n"
     ]
    }
   ],
   "source": [
    "import numpy.random as nrnd\n",
    "nrnd.permutation([1,2,3])\n",
    "nrnd.shuffle(arr1)\n",
    "print(arr1)"
   ]
  },
  {
   "cell_type": "code",
   "execution_count": 11,
   "id": "36e42226",
   "metadata": {},
   "outputs": [
    {
     "data": {
      "text/plain": [
       "1.494949494949495"
      ]
     },
     "execution_count": 11,
     "metadata": {},
     "output_type": "execute_result"
    }
   ],
   "source": [
    "rnd.choice(np.linspace(1,2,100))"
   ]
  },
  {
   "cell_type": "code",
   "execution_count": 10,
   "id": "fe383f2a",
   "metadata": {},
   "outputs": [
    {
     "data": {
      "text/plain": [
       "[1, 3]"
      ]
     },
     "execution_count": 10,
     "metadata": {},
     "output_type": "execute_result"
    }
   ],
   "source": [
    "rnd.sample([1,2,3],k=2)"
   ]
  },
  {
   "cell_type": "code",
   "execution_count": 113,
   "id": "a057bfa8",
   "metadata": {},
   "outputs": [
    {
     "data": {
      "text/plain": [
       "0.5575445980901055"
      ]
     },
     "execution_count": 113,
     "metadata": {},
     "output_type": "execute_result"
    }
   ],
   "source": [
    "rnd.uniform(0,1)"
   ]
  },
  {
   "cell_type": "code",
   "execution_count": 114,
   "id": "118b9e8f",
   "metadata": {},
   "outputs": [
    {
     "data": {
      "text/plain": [
       "0.48757072975248905"
      ]
     },
     "execution_count": 114,
     "metadata": {},
     "output_type": "execute_result"
    }
   ],
   "source": [
    "rnd.random()"
   ]
  },
  {
   "cell_type": "code",
   "execution_count": 179,
   "id": "509589c7",
   "metadata": {},
   "outputs": [
    {
     "data": {
      "text/plain": [
       "6"
      ]
     },
     "execution_count": 179,
     "metadata": {},
     "output_type": "execute_result"
    }
   ],
   "source": [
    "rnd.randrange(7,step=1)"
   ]
  },
  {
   "cell_type": "code",
   "execution_count": 197,
   "id": "acb9a45a",
   "metadata": {},
   "outputs": [
    {
     "data": {
      "text/plain": [
       "array([1])"
      ]
     },
     "execution_count": 197,
     "metadata": {},
     "output_type": "execute_result"
    }
   ],
   "source": [
    "nrnd.choice([1,2,3],size=1)"
   ]
  },
  {
   "cell_type": "code",
   "execution_count": 195,
   "id": "d6cd881f",
   "metadata": {},
   "outputs": [
    {
     "name": "stdout",
     "output_type": "stream",
     "text": [
      "Help on method choices in module random:\n",
      "\n",
      "choices(population, weights=None, *, cum_weights=None, k=1) method of random.Random instance\n",
      "    Return a k sized list of population elements chosen with replacement.\n",
      "    \n",
      "    If the relative weights or cumulative weights are not specified,\n",
      "    the selections are made with equal probability.\n",
      "\n"
     ]
    }
   ],
   "source": [
    "help(rnd.choices)"
   ]
  },
  {
   "cell_type": "code",
   "execution_count": 233,
   "id": "2d159f1d",
   "metadata": {},
   "outputs": [
    {
     "name": "stdout",
     "output_type": "stream",
     "text": [
      "[5 3 2 1 4 6]\n",
      "[1 6 2 4 5 3]\n",
      "[1 2 3 4 5 6]\n"
     ]
    }
   ],
   "source": [
    "arr1=np.array([1,2,3,4,5,6])\n",
    "nrnd.shuffle(arr1)\n",
    "print(arr1)\n",
    "\n",
    "arr2=np.array([1,2,3,4,5,6])\n",
    "print(nrnd.permutation(arr2))\n",
    "print(arr2)"
   ]
  },
  {
   "cell_type": "code",
   "execution_count": 235,
   "id": "947cb224",
   "metadata": {},
   "outputs": [
    {
     "data": {
      "text/plain": [
       "[2]"
      ]
     },
     "execution_count": 235,
     "metadata": {},
     "output_type": "execute_result"
    }
   ],
   "source": [
    "rnd.choices([1,2,3],k=1)"
   ]
  },
  {
   "cell_type": "code",
   "execution_count": 238,
   "id": "6b2c42fa",
   "metadata": {},
   "outputs": [
    {
     "data": {
      "text/plain": [
       "array([3])"
      ]
     },
     "execution_count": 238,
     "metadata": {},
     "output_type": "execute_result"
    }
   ],
   "source": [
    "nrnd.choice([1,2,3],size=1)"
   ]
  },
  {
   "cell_type": "code",
   "execution_count": 241,
   "id": "e4edb0bd",
   "metadata": {},
   "outputs": [
    {
     "data": {
      "text/plain": [
       "array([1.52162564, 1.21972371, 1.01571816])"
      ]
     },
     "execution_count": 241,
     "metadata": {},
     "output_type": "execute_result"
    }
   ],
   "source": [
    "nrnd.uniform(1,2,3)"
   ]
  },
  {
   "cell_type": "code",
   "execution_count": 261,
   "id": "98deeaab",
   "metadata": {},
   "outputs": [
    {
     "name": "stdout",
     "output_type": "stream",
     "text": [
      "[[1 2]\n",
      " [3 4]\n",
      " [1 1]]\n"
     ]
    }
   ],
   "source": [
    "mat1 = np.array([[1,2],[3,4],[1,1]])\n",
    "print(mat1)"
   ]
  },
  {
   "cell_type": "code",
   "execution_count": 263,
   "id": "a08b28ce",
   "metadata": {},
   "outputs": [
    {
     "data": {
      "text/plain": [
       "array([1.5, 3.5, 1. ])"
      ]
     },
     "execution_count": 263,
     "metadata": {},
     "output_type": "execute_result"
    }
   ],
   "source": [
    "np.mean(mat1,axis=1)"
   ]
  },
  {
   "cell_type": "code",
   "execution_count": 264,
   "id": "af9f96e6",
   "metadata": {},
   "outputs": [
    {
     "data": {
      "text/plain": [
       "[1, 2, 3]"
      ]
     },
     "execution_count": 264,
     "metadata": {},
     "output_type": "execute_result"
    }
   ],
   "source": [
    "list(np.array([1,2,3]))"
   ]
  },
  {
   "cell_type": "code",
   "execution_count": 266,
   "id": "a223cddf",
   "metadata": {},
   "outputs": [],
   "source": [
    "arr1=np.array([1,2,3])"
   ]
  },
  {
   "cell_type": "code",
   "execution_count": 289,
   "id": "aa64ce77",
   "metadata": {},
   "outputs": [
    {
     "data": {
      "text/plain": [
       "array([1, 2, 3, 4])"
      ]
     },
     "execution_count": 289,
     "metadata": {},
     "output_type": "execute_result"
    }
   ],
   "source": [
    "np.append([1,2,3],4)"
   ]
  },
  {
   "cell_type": "code",
   "execution_count": 282,
   "id": "5fad04fd",
   "metadata": {},
   "outputs": [],
   "source": [
    "arr2 = np.array([arr1])\n",
    "arr3 = np.array([[2,3,4],[5,6,7]])"
   ]
  },
  {
   "cell_type": "code",
   "execution_count": 298,
   "id": "cd1cbdb0",
   "metadata": {},
   "outputs": [
    {
     "data": {
      "text/plain": [
       "(array([1., 0., 0., 0., 0., 1., 0., 0., 0., 2.]),\n",
       " array([1. , 1.2, 1.4, 1.6, 1.8, 2. , 2.2, 2.4, 2.6, 2.8, 3. ]),\n",
       " <BarContainer object of 10 artists>)"
      ]
     },
     "execution_count": 298,
     "metadata": {},
     "output_type": "execute_result"
    },
    {
     "data": {
      "image/png": "[encoded data removed]",
      "text/plain": [
       "<Figure size 640x480 with 1 Axes>"
      ]
     },
     "metadata": {},
     "output_type": "display_data"
    }
   ],
   "source": [
    "import matplotlib.pyplot as plt\n",
    "plt.hist([1,2,3,3])"
   ]
  },
  {
   "cell_type": "code",
   "execution_count": 321,
   "id": "906ca90a",
   "metadata": {},
   "outputs": [
    {
     "data": {
      "text/plain": [
       "[<matplotlib.lines.Line2D at 0x19da3f428b0>]"
      ]
     },
     "execution_count": 321,
     "metadata": {},
     "output_type": "execute_result"
    },
    {
     "data": {
      "image/png": "[encoded data removed]",
      "text/plain": [
       "<Figure size 640x480 with 1 Axes>"
      ]
     },
     "metadata": {},
     "output_type": "display_data"
    }
   ],
   "source": [
    "import matplotlib.pyplot as plt\n",
    "\n",
    "x_vals = np.linspace(0,10,1000)\n",
    "f = lambda x:np.sin(x)\n",
    "y_vals = f(x_vals)\n",
    "plt.plot(x_vals,y_vals)"
   ]
  },
  {
   "cell_type": "code",
   "execution_count": 4,
   "id": "9ae68d45",
   "metadata": {},
   "outputs": [],
   "source": [
    "import numpy as np\n",
    "arr1=np.array([1,2,3,4,5,6,7,8])"
   ]
  },
  {
   "cell_type": "code",
   "execution_count": null,
   "id": "d1bf697c",
   "metadata": {},
   "outputs": [],
   "source": []
  },
  {
   "cell_type": "code",
   "execution_count": null,
   "id": "0aea2fe6",
   "metadata": {},
   "outputs": [],
   "source": []
  }
 ],
 "metadata": {
  "kernelspec": {
   "display_name": "Python 3 (ipykernel)",
   "language": "python",
   "name": "python3"
  },
  "language_info": {
   "codemirror_mode": {
    "name": "ipython",
    "version": 3
   },
   "file_extension": ".py",
   "mimetype": "text/x-python",
   "name": "python",
   "nbconvert_exporter": "python",
   "pygments_lexer": "ipython3",
   "version": "3.9.13"
  }
 },
 "nbformat": 4,
 "nbformat_minor": 5
}
